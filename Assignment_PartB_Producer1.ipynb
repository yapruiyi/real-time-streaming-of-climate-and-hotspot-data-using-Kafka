{
 "cells": [
  {
   "cell_type": "code",
   "execution_count": 20,
   "id": "94994c73",
   "metadata": {},
   "outputs": [
    {
     "name": "stdout",
     "output_type": "stream",
     "text": [
      "Publishing records..\n",
      "Message published successfully. Data: 01/02/24, producer1 , -36.834 , 142.524 , 13 / 50.3 / 8.6 / 13.0 /  0.02G / 111\n",
      "Message published successfully. Data: 01/03/24, producer1 , -37.34 , 143.123 , 19 / 52.8 / 12.5 / 21.0 /  0.47G / 159\n",
      "Message published successfully. Data: 01/04/24, producer1 , -37.59 , 149.31 , 19 / 57.2 / 8.9 / 15.0 /  0.98G / 153\n",
      "Message published successfully. Data: 01/05/24, producer1 , -36.748 , 144.168 , 11 / 48.2 / 10.8 / 22.9 /  0.59G / 96\n",
      "Message published successfully. Data: 01/06/24, producer1 , -37.719 , 142.154 , 13 / 47.0 / 7.9 / 15.0 /  0.02G / 114\n",
      "Message published successfully. Data: 01/07/24, producer1 , -36.942 , 143.282 , 25 / 58.3 / 7.1 / 13.0 /  0.00I / 199\n",
      "Message published successfully. Data: 01/08/24, producer1 , -36.8264 , 142.6138 , 15 / 48.2 / 14.7 / 25.1 /  0.43G / 131\n",
      "Message published successfully. Data: 01/09/24, producer1 , -37.618 , 143.0013 , 14 / 36.0 / 15.9 / 22.0 /  0.00I / 134\n",
      "Message published successfully. Data: 01/10/24, producer1 , -37.926 , 144.0898 , 15 / 51.0 / 9.0 / 13.0 /  1.26G / 128\n",
      "Message published successfully. Data: 01/11/24, producer1 , -36.341 , 143.636 , 16 / 47.5 / 5.4 / 12.0 /  0.00I / 140\n",
      "Message published successfully. Data: 01/12/24, producer1 , -37.365 , 148.052 , 11 / 43.8 / 6.5 / 12.0 /  0.02G / 99\n",
      "Message published successfully. Data: 01/13/24, producer1 , -36.8264 , 142.6138 , 15 / 48.2 / 14.7 / 25.1 /  0.43G / 131\n",
      "Message published successfully. Data: 01/14/24, producer1 , -37.978 , 145.623 , 21 / 59.5 / 12.4 / 21.0 /  0.00I / 166\n",
      "Message published successfully. Data: 01/15/24, producer1 , -37.0669 , 141.0556 , 12 / 47.5 / 15.0 / 18.1 /  0.20G / 105\n",
      "Message published successfully. Data: 01/16/24, producer1 , -36.0856 , 144.233 , 11 / 43.2 / 5.9 / 14.0 /  0.00I / 100\n"
     ]
    },
    {
     "ename": "KeyboardInterrupt",
     "evalue": "",
     "output_type": "error",
     "traceback": [
      "\u001b[0;31m---------------------------------------------------------------------------\u001b[0m",
      "\u001b[0;31mKeyboardInterrupt\u001b[0m                         Traceback (most recent call last)",
      "Cell \u001b[0;32mIn[20], line 67\u001b[0m\n\u001b[1;32m     65\u001b[0m message \u001b[38;5;241m=\u001b[39m mydate\u001b[38;5;241m.\u001b[39mstrftime(\u001b[38;5;124m\"\u001b[39m\u001b[38;5;132;01m%x\u001b[39;00m\u001b[38;5;124m\"\u001b[39m) \u001b[38;5;241m+\u001b[39m \u001b[38;5;124m\"\u001b[39m\u001b[38;5;124m, \u001b[39m\u001b[38;5;124m\"\u001b[39m \u001b[38;5;241m+\u001b[39m \u001b[38;5;28mstr\u001b[39m(\u001b[38;5;124m\"\u001b[39m\u001b[38;5;124mproducer1\u001b[39m\u001b[38;5;124m\"\u001b[39m) \u001b[38;5;241m+\u001b[39m \u001b[38;5;124m\"\u001b[39m\u001b[38;5;124m , \u001b[39m\u001b[38;5;124m\"\u001b[39m \u001b[38;5;241m+\u001b[39m \u001b[38;5;28mstr\u001b[39m(data[\u001b[38;5;124m'\u001b[39m\u001b[38;5;124mlatitude\u001b[39m\u001b[38;5;124m'\u001b[39m]) \u001b[38;5;241m+\u001b[39m \u001b[38;5;124m\"\u001b[39m\u001b[38;5;124m , \u001b[39m\u001b[38;5;124m\"\u001b[39m  \u001b[38;5;241m+\u001b[39m \u001b[38;5;28mstr\u001b[39m(data[\u001b[38;5;124m'\u001b[39m\u001b[38;5;124mlongitude\u001b[39m\u001b[38;5;124m'\u001b[39m]) \u001b[38;5;241m+\u001b[39m \u001b[38;5;124m\"\u001b[39m\u001b[38;5;124m , \u001b[39m\u001b[38;5;124m\"\u001b[39m \u001b[38;5;241m+\u001b[39m \u001b[38;5;28mstr\u001b[39m(data[\u001b[38;5;124m'\u001b[39m\u001b[38;5;124mair_temperature_celcius\u001b[39m\u001b[38;5;124m'\u001b[39m]) \u001b[38;5;241m+\u001b[39m \u001b[38;5;124m\"\u001b[39m\u001b[38;5;124m / \u001b[39m\u001b[38;5;124m\"\u001b[39m \u001b[38;5;241m+\u001b[39m \u001b[38;5;28mstr\u001b[39m(data[\u001b[38;5;124m'\u001b[39m\u001b[38;5;124mrelative_humidity\u001b[39m\u001b[38;5;124m'\u001b[39m]) \u001b[38;5;241m+\u001b[39m \u001b[38;5;124m\"\u001b[39m\u001b[38;5;124m / \u001b[39m\u001b[38;5;124m\"\u001b[39m \u001b[38;5;241m+\u001b[39m \u001b[38;5;28mstr\u001b[39m(data[\u001b[38;5;124m'\u001b[39m\u001b[38;5;124mwindspeed_knots\u001b[39m\u001b[38;5;124m'\u001b[39m])  \u001b[38;5;241m+\u001b[39m \u001b[38;5;124m\"\u001b[39m\u001b[38;5;124m / \u001b[39m\u001b[38;5;124m\"\u001b[39m \u001b[38;5;241m+\u001b[39m \u001b[38;5;28mstr\u001b[39m(data[\u001b[38;5;124m'\u001b[39m\u001b[38;5;124mmax_wind_speed\u001b[39m\u001b[38;5;124m'\u001b[39m]) \u001b[38;5;241m+\u001b[39m \u001b[38;5;124m\"\u001b[39m\u001b[38;5;124m / \u001b[39m\u001b[38;5;124m\"\u001b[39m \u001b[38;5;241m+\u001b[39m \u001b[38;5;28mstr\u001b[39m(data[\u001b[38;5;124m'\u001b[39m\u001b[38;5;124mprecipitation \u001b[39m\u001b[38;5;124m'\u001b[39m]) \u001b[38;5;241m+\u001b[39m \u001b[38;5;124m\"\u001b[39m\u001b[38;5;124m / \u001b[39m\u001b[38;5;124m\"\u001b[39m \u001b[38;5;241m+\u001b[39m \u001b[38;5;28mstr\u001b[39m(data[\u001b[38;5;124m'\u001b[39m\u001b[38;5;124mGHI_w/m2\u001b[39m\u001b[38;5;124m'\u001b[39m]) \n\u001b[1;32m     66\u001b[0m publish_message(producer, topic, message) \u001b[38;5;66;03m# \" \"parsed\" is the key, data is the value\"\u001b[39;00m\n\u001b[0;32m---> 67\u001b[0m \u001b[43msleep\u001b[49m\u001b[43m(\u001b[49m\u001b[38;5;241;43m10\u001b[39;49m\u001b[43m)\u001b[49m\n\u001b[1;32m     68\u001b[0m mydate \u001b[38;5;241m=\u001b[39m timedelta(\u001b[38;5;241m1\u001b[39m) \u001b[38;5;241m+\u001b[39m mydate\n",
      "\u001b[0;31mKeyboardInterrupt\u001b[0m: "
     ]
    }
   ],
   "source": [
    "# import statements\n",
    "from time import sleep\n",
    "from json import dumps\n",
    "from kafka3 import KafkaProducer\n",
    "import random\n",
    "from datetime import date, datetime, timedelta\n",
    "from pprint import pprint\n",
    "import pandas as pd\n",
    "import pymongo\n",
    "from pymongo import MongoClient\n",
    "import pandas as pd\n",
    "\n",
    "hostip = \"192.168.0.130\" # change it to your IP\n",
    "\n",
    "\n",
    "def publish_message(producer_instance, topic_name, data):\n",
    "    try:\n",
    "        value =  bytes(str(data), 'utf-8')\n",
    "        producer_instance.send(topic_name, value)\n",
    "        print('Message published successfully. Data: ' + str(data))\n",
    "    except Exception as ex:\n",
    "        print('Exception in publishing message.')\n",
    "        print(str(ex))\n",
    "        \n",
    "def connect_kafka_producer():\n",
    "    _producer = None\n",
    "    try:\n",
    "        _producer = KafkaProducer(bootstrap_servers=[f'{hostip}:9092'],\n",
    "                                  #value_serializer=lambda x: dumps(x, default=str).encode('utf-8'),\n",
    "                                  api_version=(0, 10))\n",
    "    except Exception as ex:\n",
    "        print('Exception while connecting Kafka.')\n",
    "        print(str(ex))\n",
    "    finally:\n",
    "        return _producer\n",
    "    \n",
    "if __name__ == '__main__':\n",
    "          \n",
    "    client = MongoClient('192.168.0.130', 27017) \n",
    "    db = client.fit3182_db\n",
    "    fit3182_assignment_db = db.fit3182_assignment_db\n",
    "    \n",
    "    res = fit3182_assignment_db.aggregate([\n",
    "    { \"$sort\" : {\"date\" : -1 }},\n",
    "    { \"$limit\" : 1 }\n",
    "    ])\n",
    "    \n",
    "    \n",
    "    \n",
    "    # load data\n",
    "    climate_streaming_file = pd.read_csv(\"./climate_streaming.csv\")\n",
    "    #climate_file = climate_file.apply(pd.to_numeric, errors='ignore')\n",
    "    climate_data = climate_streaming_file.to_dict(orient=\"records\")\n",
    "\n",
    "    #pprint(climate_data)\n",
    "    \n",
    "    topic = 'Main_Stream'\n",
    "    \n",
    "    print('Publishing records..')\n",
    "    producer = connect_kafka_producer()\n",
    "    mydate = list(res)[0]['date'] + timedelta(1)  # lastest climate date in mongoDB is 2024-01-01 so newdate should be 2024-01-02\n",
    "    \n",
    "    for e in range(100):\n",
    "        data = climate_data[random.randrange(0, len(climate_data))]\n",
    "        message = mydate.strftime(\"%x\") + \", \" + str(\"producer1\") + \" , \" + str(data['latitude']) + \" , \"  + str(data['longitude']) + \" , \" + str(data['air_temperature_celcius']) + \" / \" + str(data['relative_humidity']) + \" / \" + str(data['windspeed_knots'])  + \" / \" + str(data['max_wind_speed']) + \" / \" + str(data['precipitation ']) + \" / \" + str(data['GHI_w/m2']) \n",
    "        publish_message(producer, topic, message) # \" \"parsed\" is the key, data is the value\"\n",
    "        sleep(10)\n",
    "        mydate = timedelta(1) + mydate\n",
    "    "
   ]
  },
  {
   "cell_type": "code",
   "execution_count": null,
   "id": "81b3b2e3",
   "metadata": {},
   "outputs": [],
   "source": []
  }
 ],
 "metadata": {
  "kernelspec": {
   "display_name": "Python 3 (ipykernel)",
   "language": "python",
   "name": "python3"
  },
  "language_info": {
   "codemirror_mode": {
    "name": "ipython",
    "version": 3
   },
   "file_extension": ".py",
   "mimetype": "text/x-python",
   "name": "python",
   "nbconvert_exporter": "python",
   "pygments_lexer": "ipython3",
   "version": "3.8.16"
  }
 },
 "nbformat": 4,
 "nbformat_minor": 5
}
